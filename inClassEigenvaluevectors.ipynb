{
 "cells": [
  {
   "cell_type": "code",
   "execution_count": 1,
   "id": "bf99036c-ba78-48e7-b75a-e1df86ef1853",
   "metadata": {},
   "outputs": [],
   "source": [
    "import numpy as np\n",
    "import matplotlib.pyplot as plt\n",
    "%matplotlib notebook"
   ]
  },
  {
   "cell_type": "code",
   "execution_count": 3,
   "id": "e782c4e7-9257-4d8b-b04d-1fad702ef8ff",
   "metadata": {},
   "outputs": [
    {
     "name": "stdout",
     "output_type": "stream",
     "text": [
      "[[11 -1  0]\n",
      " [-1 12 -1]\n",
      " [ 0 -1 11]]\n"
     ]
    }
   ],
   "source": [
    "matrix = np.array([[11,-1,0], [-1,12,-1], [0,-1,11]])\n",
    "print(matrix)"
   ]
  },
  {
   "cell_type": "code",
   "execution_count": 5,
   "id": "46fb9956-85a3-441e-919a-02acfc38529a",
   "metadata": {},
   "outputs": [
    {
     "name": "stdout",
     "output_type": "stream",
     "text": [
      "E-value: [13. 11. 10.]\n",
      "E-vector: [[-4.08248290e-01 -7.07106781e-01  5.77350269e-01]\n",
      " [ 8.16496581e-01  1.22910000e-15  5.77350269e-01]\n",
      " [-4.08248290e-01  7.07106781e-01  5.77350269e-01]]\n"
     ]
    }
   ],
   "source": [
    "w,v = np.linalg.eig(matrix)\n",
    "print('E-value:', w)\n",
    "print('E-vector:', v)"
   ]
  }
 ],
 "metadata": {
  "kernelspec": {
   "display_name": "Python 3 (ipykernel)",
   "language": "python",
   "name": "python3"
  },
  "language_info": {
   "codemirror_mode": {
    "name": "ipython",
    "version": 3
   },
   "file_extension": ".py",
   "mimetype": "text/x-python",
   "name": "python",
   "nbconvert_exporter": "python",
   "pygments_lexer": "ipython3",
   "version": "3.12.4"
  }
 },
 "nbformat": 4,
 "nbformat_minor": 5
}
