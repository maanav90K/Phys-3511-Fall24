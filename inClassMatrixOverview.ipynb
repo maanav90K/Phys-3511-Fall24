{
 "cells": [
  {
   "cell_type": "code",
   "execution_count": 1,
   "id": "a79663e1-53cd-4b90-b0b9-77d0568a2905",
   "metadata": {
    "editable": true,
    "slideshow": {
     "slide_type": ""
    },
    "tags": []
   },
   "outputs": [],
   "source": [
    "import numpy as np\n",
    "%matplotlib inline"
   ]
  },
  {
   "cell_type": "code",
   "execution_count": 2,
   "id": "da68af72-1e0f-4041-a952-b672f0704261",
   "metadata": {},
   "outputs": [
    {
     "name": "stdout",
     "output_type": "stream",
     "text": [
      "[[ 2 -4  7]\n",
      " [ 3 -3  0]\n",
      " [ 1  7  5]]\n",
      "\n",
      "[[ 2  4]\n",
      " [ 3 -3]\n",
      " [ 1  7]]\n",
      "\n",
      "[[-1  1]\n",
      " [ 1 -1]]\n",
      "\n",
      "[[ 2  0]\n",
      " [-3  6]]\n"
     ]
    }
   ],
   "source": [
    "matrixA = np.array([[2,-4,7], [3,-3,0], [1,7,5]])\n",
    "\n",
    "matrixB = np.array([[2,4], [3,-3], [1,7]])\n",
    "\n",
    "matrixC = np.array([[-1,1], [1,-1]])\n",
    "\n",
    "matrixD = np.array([[2,0], [-3,6]])\n",
    "\n",
    "print(matrixA)\n",
    "print()\n",
    "print(matrixB)\n",
    "print()\n",
    "print(matrixC)\n",
    "print()\n",
    "print(matrixD)"
   ]
  },
  {
   "cell_type": "code",
   "execution_count": 3,
   "id": "b2ab2efc-95a9-44f3-9dce-1850e5f85900",
   "metadata": {},
   "outputs": [
    {
     "name": "stdout",
     "output_type": "stream",
     "text": [
      "[[  5.  -10.   17.5]\n",
      " [  7.5  -7.5   0. ]\n",
      " [  2.5  17.5  12.5]]\n"
     ]
    }
   ],
   "source": [
    "matrixAnew = matrixA * 2.5\n",
    "\n",
    "print(matrixAnew)"
   ]
  },
  {
   "cell_type": "code",
   "execution_count": 4,
   "id": "802020f4-2b9d-4766-adc5-80f105e36c53",
   "metadata": {},
   "outputs": [
    {
     "data": {
      "text/plain": [
       "'\\nmatrixA * matrixC\\nprint(matrixA)\\n'"
      ]
     },
     "execution_count": 4,
     "metadata": {},
     "output_type": "execute_result"
    }
   ],
   "source": [
    "'''\n",
    "matrixA * matrixC\n",
    "print(matrixA)\n",
    "'''\n",
    "\n",
    "#this code won't run because the two matrices have different column dimensions"
   ]
  },
  {
   "cell_type": "code",
   "execution_count": 7,
   "id": "f68bd783-44b7-4694-aafd-e31a5ea7e28f",
   "metadata": {},
   "outputs": [
    {
     "name": "stdout",
     "output_type": "stream",
     "text": [
      "[[-5  6]\n",
      " [ 5 -6]]\n",
      "\n",
      "[[-2  2]\n",
      " [ 9 -9]]\n"
     ]
    }
   ],
   "source": [
    "CD = np.matmul(matrixC, matrixD)\n",
    "print(CD)\n",
    "print()\n",
    "\n",
    "DC = np.matmul(matrixD, matrixC)\n",
    "print(DC)"
   ]
  },
  {
   "cell_type": "code",
   "execution_count": 8,
   "id": "c1443eb1-2970-48c8-91af-0ddbba125a40",
   "metadata": {},
   "outputs": [
    {
     "name": "stdout",
     "output_type": "stream",
     "text": [
      "[[ 2  4]\n",
      " [ 3 -3]\n",
      " [ 1  7]]\n",
      "\n",
      "[[ 2  3  1]\n",
      " [ 4 -3  7]]\n"
     ]
    }
   ],
   "source": [
    "print(matrixB)\n",
    "print()\n",
    "\n",
    "matrixBT = matrixB.T\n",
    "print(matrixBT)"
   ]
  },
  {
   "cell_type": "code",
   "execution_count": 9,
   "id": "a4fb40b9-a202-48cf-aa45-44bf2e978262",
   "metadata": {},
   "outputs": [
    {
     "name": "stdout",
     "output_type": "stream",
     "text": [
      "[[-1  1]\n",
      " [ 1 -1]]\n",
      "[[ 2  0]\n",
      " [-3  6]]\n",
      "\n",
      "[[ 1  1]\n",
      " [-2  5]]\n"
     ]
    }
   ],
   "source": [
    "print(matrixC)\n",
    "print(matrixD)\n",
    "print()\n",
    "\n",
    "addmCD = matrixC + matrixD\n",
    "print(addmCD)"
   ]
  },
  {
   "cell_type": "code",
   "execution_count": 10,
   "id": "1796caab-2196-45f9-b8c7-98c4eccf2124",
   "metadata": {},
   "outputs": [
    {
     "name": "stdout",
     "output_type": "stream",
     "text": [
      "[[-1  1]\n",
      " [ 1 -1]]\n",
      "\n",
      "0.0\n"
     ]
    }
   ],
   "source": [
    "print(matrixC)\n",
    "print()\n",
    "\n",
    "detC = np.linalg.det(matrixC)\n",
    "print(detC)"
   ]
  },
  {
   "cell_type": "code",
   "execution_count": 11,
   "id": "aa4e9b56-be4c-40e4-8d16-0e84ff0f70ef",
   "metadata": {},
   "outputs": [
    {
     "name": "stdout",
     "output_type": "stream",
     "text": [
      "[[ 2 -4  7]\n",
      " [ 3 -3  0]\n",
      " [ 1  7  5]]\n",
      "\n",
      "197.9999999999998\n"
     ]
    }
   ],
   "source": [
    "print(matrixA)\n",
    "print()\n",
    "\n",
    "detA = np.linalg.det(matrixA)\n",
    "print(detA)"
   ]
  }
 ],
 "metadata": {
  "kernelspec": {
   "display_name": "Python 3 (ipykernel)",
   "language": "python",
   "name": "python3"
  },
  "language_info": {
   "codemirror_mode": {
    "name": "ipython",
    "version": 3
   },
   "file_extension": ".py",
   "mimetype": "text/x-python",
   "name": "python",
   "nbconvert_exporter": "python",
   "pygments_lexer": "ipython3",
   "version": "3.12.4"
  }
 },
 "nbformat": 4,
 "nbformat_minor": 5
}
