{
 "cells": [
  {
   "cell_type": "code",
   "execution_count": 1,
   "id": "986a75e9-489a-4e98-84df-7d9fa71a685e",
   "metadata": {},
   "outputs": [],
   "source": [
    "import numpy as np\n",
    "import scipy.stats as st\n",
    "import matplotlib.pyplot as plt\n",
    "%matplotlib inline"
   ]
  },
  {
   "cell_type": "code",
   "execution_count": 2,
   "id": "afc134fb-01b0-46fd-98c1-e69befc66b55",
   "metadata": {},
   "outputs": [
    {
     "name": "stdout",
     "output_type": "stream",
     "text": [
      "P( 0 Heads) =  0.12499999999999999\n",
      "P( 1 Heads) =  0.3750000000000001\n",
      "P( 2 Heads) =  0.3750000000000001\n",
      "P( 3 Heads) =  0.125\n"
     ]
    }
   ],
   "source": [
    "n = 3\n",
    "p = 0.5\n",
    "i = 0\n",
    "while (i <= n):\n",
    "    print('P(',i,'Heads) = ',st.binom.pmf(i,n,p)) #frequency, number of flips, probability of Heads or Tails\n",
    "    i += 1"
   ]
  },
  {
   "cell_type": "code",
   "execution_count": 3,
   "id": "a5c4176f-7e35-4acf-aa5d-0885ae6e8cdb",
   "metadata": {},
   "outputs": [
    {
     "name": "stdout",
     "output_type": "stream",
     "text": [
      "0  Heads:  0.129\n",
      "1  Heads:  0.388\n",
      "2  Heads:  0.346\n",
      "3  Heads:  0.137\n",
      "Total: 1.0\n"
     ]
    },
    {
     "data": {
      "image/png": "[encoded data removed]",
      "text/plain": [
       "<Figure size 640x480 with 1 Axes>"
      ]
     },
     "metadata": {},
     "output_type": "display_data"
    }
   ],
   "source": [
    "np.random.seed(0)\n",
    "n = 3\n",
    "p = 0.5\n",
    "trials=1000\n",
    "outcome = st.binom.rvs(n,p,size=trials)\n",
    "\n",
    "#plot it\n",
    "fig = plt.figure('Coin Toss PMF')\n",
    "ax = fig.add_axes([0.1,0.1,0.8,0.8])\n",
    "ax.hist(outcome,bins=n+1,range=(0,n+1),density=True);\n",
    "ax.set_xlabel('Number of Heads')\n",
    "\n",
    "ax = plt.gca(); # get axis handle\n",
    "\n",
    "p = ax.patches\n",
    "Ptotal = 0.0\n",
    "for i in range (len(p)):\n",
    "    Pi = p[i].get_height()*p[i].get_width()\n",
    "    print(i,' Heads: ',Pi)\n",
    "    Ptotal += Pi\n",
    "print('Total:', Ptotal) "
   ]
  },
  {
   "cell_type": "code",
   "execution_count": 4,
   "id": "7ec180f9-9ea0-4569-8708-7cb9ff3a9c1b",
   "metadata": {},
   "outputs": [],
   "source": [
    "# rolling a die once and getting an even number or an odd number\n",
    "evens = np.array([2, 4, 6])\n",
    "odds = np.array([1, 3, 5])\n",
    "greater_than_two = np.array([3, 4, 5, 6])\n",
    "all_possible_rolls = np.array([1, 2, 3, 4, 5, 6])"
   ]
  },
  {
   "cell_type": "code",
   "execution_count": 5,
   "id": "bdf0b6f0-fa90-4b90-b14a-c1784613b15e",
   "metadata": {},
   "outputs": [
    {
     "name": "stdout",
     "output_type": "stream",
     "text": [
      "Prob. of rolling an even number:  0.5\n",
      "Prob. of rolling an odd number:  0.5\n",
      "Prob. of rolling an number > 2:  0.6666666666666666\n"
     ]
    }
   ],
   "source": [
    "prob_evens = len(evens)/len(all_possible_rolls)\n",
    "prob_odds = len(odds)/len(all_possible_rolls)\n",
    "prob_greater_than_two = len(greater_than_two)/len(all_possible_rolls)\n",
    "\n",
    "print('Prob. of rolling an even number: ',prob_evens)\n",
    "print('Prob. of rolling an odd number: ',prob_odds)\n",
    "print('Prob. of rolling an number > 2: ',prob_greater_than_two)"
   ]
  },
  {
   "cell_type": "code",
   "execution_count": 6,
   "id": "cc0a9eb3-4f14-4f10-915c-aae56c9893d6",
   "metadata": {},
   "outputs": [
    {
     "name": "stdout",
     "output_type": "stream",
     "text": [
      "intersection [4 6]\n",
      "Prob. of rolling an even number and > 2:  0.3333333333333333\n"
     ]
    }
   ],
   "source": [
    "intersect = np.intersect1d(evens,greater_than_two)\n",
    "print('intersection',intersect)\n",
    "\n",
    "prob_even_greater_than_two = len(intersect)/len(all_possible_rolls)\n",
    "print('Prob. of rolling an even number and > 2: ',prob_even_greater_than_two)"
   ]
  },
  {
   "cell_type": "code",
   "execution_count": 7,
   "id": "2b99d0bc-a12c-4fae-9a00-a5e0a1d9bbe1",
   "metadata": {},
   "outputs": [
    {
     "name": "stdout",
     "output_type": "stream",
     "text": [
      "Prob. of rolling an even number or > 2:  0.8333333333333333\n"
     ]
    }
   ],
   "source": [
    "prob_or = prob_evens + prob_greater_than_two - prob_even_greater_than_two\n",
    "print('Prob. of rolling an even number or > 2: ',prob_or)"
   ]
  },
  {
   "cell_type": "code",
   "execution_count": 8,
   "id": "a15cdfe0-abc8-41bf-817c-ee15e7bfe807",
   "metadata": {},
   "outputs": [
    {
     "name": "stdout",
     "output_type": "stream",
     "text": [
      "0.75\n"
     ]
    }
   ],
   "source": [
    "print(st.binom.cdf(2,3,0.5) - st.binom.cdf(0,3,0.5))"
   ]
  },
  {
   "cell_type": "code",
   "execution_count": 9,
   "id": "44dd1b82-3dee-493c-b65b-416c0bca822f",
   "metadata": {},
   "outputs": [
    {
     "name": "stdout",
     "output_type": "stream",
     "text": [
      "0.7500000000000002\n"
     ]
    }
   ],
   "source": [
    "print(st.binom.pmf(1,3,0.5)+st.binom.pmf(2,3,0.5))"
   ]
  },
  {
   "cell_type": "code",
   "execution_count": 10,
   "id": "7202898c-accd-4b70-9fe4-d6433dc4fee4",
   "metadata": {},
   "outputs": [
    {
     "name": "stdout",
     "output_type": "stream",
     "text": [
      "0.32742093031554026\n",
      "0.32742093031554026\n"
     ]
    }
   ],
   "source": [
    "#If you roll a 6-sided dice 10 times, what is the probability of having the number 4 show up 6 times? \n",
    "\n",
    "print(st.binom.pmf(4,10,0.167)+st.binom.pmf(4,10,0.167)+st.binom.pmf(4,10,0.167)+st.binom.pmf(4,10,0.167)+st.binom.pmf(4,10,0.167)+st.binom.pmf(4,10,0.167))\n",
    "print(6*(st.binom.pmf(4,10,0.167)))\n"
   ]
  },
  {
   "cell_type": "code",
   "execution_count": 16,
   "id": "4e332968-58db-4c43-80c4-3a95c8f2bef8",
   "metadata": {},
   "outputs": [
    {
     "name": "stdout",
     "output_type": "stream",
     "text": [
      "0 : 0.165\n",
      "1 : 0.336\n",
      "2 : 0.276\n",
      "3 : 0.146\n",
      "4 : 0.064\n",
      "5 : 0.009\n",
      "6 : 0.003\n",
      "7 : 0.001\n",
      "8 : 0.0\n",
      "9 : 0.0\n",
      "10 : 0.0\n",
      "Total: 1.0\n",
      "Result of 4 0.0\n"
     ]
    },
    {
     "data": {
      "text/plain": [
       "<function matplotlib.pyplot.show(close=None, block=None)>"
      ]
     },
     "execution_count": 16,
     "metadata": {},
     "output_type": "execute_result"
    },
    {
     "data": {
      "image/png": "[encoded data removed]",
      "text/plain": [
       "<Figure size 640x480 with 1 Axes>"
      ]
     },
     "metadata": {},
     "output_type": "display_data"
    }
   ],
   "source": [
    "np.random.seed(0)\n",
    "n = 10\n",
    "p = 0.167\n",
    "trials=1000\n",
    "outcome = st.binom.rvs(n,p,size=trials)\n",
    "\n",
    "#plot it\n",
    "fig = plt.figure('Dice Roll PMF')\n",
    "ax = fig.add_axes([0.1,0.1,0.8,0.8])\n",
    "ax.hist(outcome,bins=n+1,range=(0,n+1),density=True);\n",
    "ax.set_xlabel('Dice Rolls')\n",
    "\n",
    "ax = plt.gca(); # get axis \n",
    "\n",
    "p = ax.patches\n",
    "Ptotal = 0.0\n",
    "for i in range (len(p)):\n",
    "    Pi = p[i].get_height()*p[i].get_width()\n",
    "    print(i,':',Pi)\n",
    "    Ptotal += Pi\n",
    "print('Total:', Ptotal) \n",
    "print('Result of 4', P4)\n",
    "\n",
    "plt.show"
   ]
  },
  {
   "cell_type": "code",
   "execution_count": null,
   "id": "61c5da00-147b-4fce-865b-23122c5fe56f",
   "metadata": {},
   "outputs": [],
   "source": []
  }
 ],
 "metadata": {
  "kernelspec": {
   "display_name": "Python 3 (ipykernel)",
   "language": "python",
   "name": "python3"
  },
  "language_info": {
   "codemirror_mode": {
    "name": "ipython",
    "version": 3
   },
   "file_extension": ".py",
   "mimetype": "text/x-python",
   "name": "python",
   "nbconvert_exporter": "python",
   "pygments_lexer": "ipython3",
   "version": "3.12.4"
  }
 },
 "nbformat": 4,
 "nbformat_minor": 5
}
