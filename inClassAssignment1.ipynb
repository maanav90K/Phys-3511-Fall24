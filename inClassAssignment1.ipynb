{
 "cells": [
  {
   "cell_type": "code",
   "execution_count": 153,
   "id": "970fd338-4c2f-4cf2-849f-4e3b1ecadf57",
   "metadata": {},
   "outputs": [
    {
     "data": {
      "text/plain": [
       "\"1. Write a code that concatenates the two lists below index-wise. Create a new list that contains as it 0th index the concatenation of list1 and list2's 0th index, its 1st index as the concatenation of list1 and list2's 1st index and so on.\""
      ]
     },
     "execution_count": 153,
     "metadata": {},
     "output_type": "execute_result"
    }
   ],
   "source": [
    "\"1. Write a code that concatenates the two lists below index-wise. Create a new list that contains as it 0th index the concatenation of list1 and list2's 0th index, its 1st index as the concatenation of list1 and list2's 1st index and so on.\""
   ]
  },
  {
   "cell_type": "code",
   "execution_count": 154,
   "id": "8cc5fdc5-06ce-4320-b4d5-12a8f96a4a77",
   "metadata": {},
   "outputs": [],
   "source": [
    "list1 = ['wh','Y','gon','ca']\n",
    "list2 = ['o','a','na','ll']"
   ]
  },
  {
   "cell_type": "code",
   "execution_count": 155,
   "id": "260f25fc-0dc8-4333-b805-9dcc30caf012",
   "metadata": {},
   "outputs": [
    {
     "data": {
      "text/plain": [
       "'who'"
      ]
     },
     "execution_count": 155,
     "metadata": {},
     "output_type": "execute_result"
    }
   ],
   "source": [
    "colist = list1[0] + list2[0]\n",
    "colist"
   ]
  },
  {
   "cell_type": "code",
   "execution_count": 156,
   "id": "902d9d48-c800-4e2c-a047-9cceffcd6779",
   "metadata": {},
   "outputs": [
    {
     "data": {
      "text/plain": [
       "'who Ya gonna call'"
      ]
     },
     "execution_count": 156,
     "metadata": {},
     "output_type": "execute_result"
    }
   ],
   "source": [
    "solution = (list1[0]+list2[0])+' '+(list1[1]+list2[1])+' '+(list1[2]+list2[2])+' '+(list1[3]+list2[3])\n",
    "solution"
   ]
  },
  {
   "cell_type": "code",
   "execution_count": 157,
   "id": "511688d8-4333-424e-bd59-b72d28de4823",
   "metadata": {},
   "outputs": [
    {
     "data": {
      "text/plain": [
       "'2.Write a program to iterate the first 10 numbers (0 to 9) and in each iteration, print the sum of the current and previous number.'"
      ]
     },
     "execution_count": 157,
     "metadata": {},
     "output_type": "execute_result"
    }
   ],
   "source": [
    "\"2.Write a program to iterate the first 10 numbers (0 to 9) and in each iteration, print the sum of the current and previous number.\""
   ]
  },
  {
   "cell_type": "code",
   "execution_count": 158,
   "id": "de0c010e-6a4b-4d48-a8e8-2767ed4d396f",
   "metadata": {},
   "outputs": [
    {
     "name": "stdout",
     "output_type": "stream",
     "text": [
      "current number = 0, previous number = 0, sum number = 0\n",
      "current number = 1, previous number = 0, sum number = 1\n",
      "current number = 2, previous number = 1, sum number = 3\n",
      "current number = 3, previous number = 2, sum number = 5\n",
      "current number = 4, previous number = 3, sum number = 7\n",
      "current number = 5, previous number = 4, sum number = 9\n",
      "current number = 6, previous number = 5, sum number = 11\n",
      "current number = 7, previous number = 6, sum number = 13\n",
      "current number = 8, previous number = 7, sum number = 15\n",
      "current number = 9, previous number = 8, sum number = 17\n"
     ]
    }
   ],
   "source": [
    "previousnumber = 0\n",
    "for currentnumber in range(10): \n",
    "    currentnumber == 0\n",
    "    sumnumber = currentnumber + previousnumber\n",
    "    print(f\"current number = {currentnumber}, previous number = {previousnumber}, sum number = {sumnumber}\".format(currentnumber))  \n",
    "    previousnumber = currentnumber "
   ]
  },
  {
   "cell_type": "code",
   "execution_count": 159,
   "id": "3250da9f-ded1-412e-bd21-4206d98e17ce",
   "metadata": {},
   "outputs": [
    {
     "data": {
      "text/plain": [
       "'3. Define a function called is_odd that takes an integer as its argument and tells the user if it is even, odd, or zero.'"
      ]
     },
     "execution_count": 159,
     "metadata": {},
     "output_type": "execute_result"
    }
   ],
   "source": [
    "'3. Define a function called is_odd that takes an integer as its argument and tells the user if it is even, odd, or zero.'"
   ]
  },
  {
   "cell_type": "code",
   "execution_count": 160,
   "id": "edcd3df6-1f1c-46ac-b67d-5be80f88e9c5",
   "metadata": {},
   "outputs": [],
   "source": [
    "def is_odd(integer):\n",
    "    print(integer)\n",
    "    if integer == 0:\n",
    "        return f\"{integer} is zero.\"\n",
    "    elif integer % 2 == 0:\n",
    "        return f\"{integer} is even.\"\n",
    "    else:\n",
    "        return f\"{integer} is odd.\""
   ]
  },
  {
   "cell_type": "code",
   "execution_count": 161,
   "id": "480e3f61-3c82-4cc9-bada-c76e383e8c96",
   "metadata": {},
   "outputs": [
    {
     "name": "stdout",
     "output_type": "stream",
     "text": [
      "24\n"
     ]
    },
    {
     "data": {
      "text/plain": [
       "'24 is even.'"
      ]
     },
     "execution_count": 161,
     "metadata": {},
     "output_type": "execute_result"
    }
   ],
   "source": [
    "is_odd(24)"
   ]
  },
  {
   "cell_type": "code",
   "execution_count": 162,
   "id": "ea1dfd69-de31-4cda-a82b-c93ec37bca94",
   "metadata": {},
   "outputs": [
    {
     "name": "stdout",
     "output_type": "stream",
     "text": [
      "5\n"
     ]
    },
    {
     "data": {
      "text/plain": [
       "'5 is odd.'"
      ]
     },
     "execution_count": 162,
     "metadata": {},
     "output_type": "execute_result"
    }
   ],
   "source": [
    "is_odd(5)"
   ]
  },
  {
   "cell_type": "code",
   "execution_count": 163,
   "id": "f0d208d8-8d39-4b5e-8f54-abdab8fa3621",
   "metadata": {},
   "outputs": [
    {
     "name": "stdout",
     "output_type": "stream",
     "text": [
      "0\n"
     ]
    },
    {
     "data": {
      "text/plain": [
       "'0 is zero.'"
      ]
     },
     "execution_count": 163,
     "metadata": {},
     "output_type": "execute_result"
    }
   ],
   "source": [
    "is_odd(0)"
   ]
  },
  {
   "cell_type": "code",
   "execution_count": 164,
   "id": "ff637f6e-0cf8-4c3b-82b2-4d44df3fe119",
   "metadata": {},
   "outputs": [
    {
     "data": {
      "text/plain": [
       "'4. Unpack the tuple tuple1.'"
      ]
     },
     "execution_count": 164,
     "metadata": {},
     "output_type": "execute_result"
    }
   ],
   "source": [
    "'4. Unpack the tuple tuple1.'"
   ]
  },
  {
   "cell_type": "code",
   "execution_count": 165,
   "id": "fa82ae0f-a1c4-4eca-8694-f99b2ee03f6b",
   "metadata": {},
   "outputs": [
    {
     "name": "stdout",
     "output_type": "stream",
     "text": [
      "0 5 10 15\n"
     ]
    }
   ],
   "source": [
    "tuple1 = [0,5,10,15]\n",
    "a,b,c,d = tuple1\n",
    "print(a,b,c,d)"
   ]
  }
 ],
 "metadata": {
  "kernelspec": {
   "display_name": "Python 3 (ipykernel)",
   "language": "python",
   "name": "python3"
  },
  "language_info": {
   "codemirror_mode": {
    "name": "ipython",
    "version": 3
   },
   "file_extension": ".py",
   "mimetype": "text/x-python",
   "name": "python",
   "nbconvert_exporter": "python",
   "pygments_lexer": "ipython3",
   "version": "3.12.4"
  }
 },
 "nbformat": 4,
 "nbformat_minor": 5
}
